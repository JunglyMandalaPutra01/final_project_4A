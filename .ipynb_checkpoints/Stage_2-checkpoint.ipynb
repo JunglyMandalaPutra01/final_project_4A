{
 "cells": [
  {
   "cell_type": "code",
   "execution_count": 3,
   "id": "1b658d7e-cc3d-4e5e-8683-c793ef4da865",
   "metadata": {
    "tags": []
   },
   "outputs": [],
   "source": [
    "import numpy as np\n",
    "import pandas as pd\n",
    "import matplotlib.pyplot as plt\n",
    "import seaborn as sns"
   ]
  },
  {
   "cell_type": "code",
   "execution_count": 4,
   "id": "054d4ed7-9143-450e-b24e-9d2a19e5b0cd",
   "metadata": {
    "tags": []
   },
   "outputs": [],
   "source": [
    "df = pd.read_csv('Churn_Modelling.csv')"
   ]
  },
  {
   "cell_type": "markdown",
   "id": "1c71f385-e0b8-449e-bd58-fdf9c90482ed",
   "metadata": {},
   "source": [
    "1A. Handle missing values : Wahidah <br>\n",
    "1B. Handle duplicated data : Joel<br>\n",
    "1C. Handle outliers : Bazil<br>\n",
    "1D. Feature transformation : Ummi<br>\n",
    "1E. Feature encoding : Rafif<br>\n",
    "1F. Handle class imbalance : Alisia<br>\n",
    "2A. Feature selection (membuang feature yang kurang relevan atau redundan) : Sari <br>\n",
    "2B. Feature extraction (membuat feature baru dari feature yang sudah ada) : Jungly<br>\n",
    "2C. Tuliskan minimal 4 feature tambahan (selain yang sudah tersedia di dataset) yang mungkin akan sangat membantu membuat performansi model semakin bagus (ini hanya ide saja, untuk menguji kreativitas teman-teman, tidak perlu benar-benar dicari datanya dan tidak perlu diimplementasikan) : Jungly<br>"
   ]
  }
 ],
 "metadata": {
  "kernelspec": {
   "display_name": "Python 3 (ipykernel)",
   "language": "python",
   "name": "python3"
  },
  "language_info": {
   "codemirror_mode": {
    "name": "ipython",
    "version": 3
   },
   "file_extension": ".py",
   "mimetype": "text/x-python",
   "name": "python",
   "nbconvert_exporter": "python",
   "pygments_lexer": "ipython3",
   "version": "3.11.4"
  }
 },
 "nbformat": 4,
 "nbformat_minor": 5
}
